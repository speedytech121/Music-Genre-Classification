{
  "cells": [
    {
      "cell_type": "markdown",
      "metadata": {
        "id": "jDAys5NJ9vU7"
      },
      "source": [
        "## Wavelet data generation.."
      ]
    },
    {
      "cell_type": "code",
      "execution_count": 1,
      "metadata": {
        "id": "7hU730GYrfDj"
      },
      "outputs": [],
      "source": [
        "def func(cls):\n",
        "  img_names = os.listdir('genres/'+cls)\n",
        "  os.makedirs('wavelets/train/'+cls)\n",
        "  os.makedirs('wavelets/test/'+cls)\n",
        "  print(cls)\n",
        "  train_names = img_names[:60]\n",
        "  test_names = img_names[60:]\n",
        "  cnt = 0\n",
        "  for nm in train_names:\n",
        "    cnt+=1\n",
        "    x , sr = librosa.load('genres/'+cls+'/'+nm)\n",
        "    #plt.figure(figsize=(14, 5))\n",
        "    librosa.display.waveplot(x)\n",
        "    plt.savefig('wavelets/train/'+cls+'/'+str(cnt)+'.png')\n",
        "    plt.close()\n",
        "  \n",
        "  cnt = 0\n",
        "  for nm in test_names:\n",
        "    cnt+=1\n",
        "    x , sr = librosa.load('genres/'+cls+'/'+nm)\n",
        "    #plt.figure(figsize=(14, 5))\n",
        "    librosa.display.waveplot(x)\n",
        "    plt.savefig('wavelets/test/'+cls+'/'+str(cnt)+'.png')\n",
        "    plt.close()"
      ]
    },
    {
      "cell_type": "code",
      "execution_count": 2,
      "metadata": {
        "colab": {
          "base_uri": "https://localhost:8080/"
        },
        "id": "G7aFO6Q4KOXi",
        "outputId": "ea634229-3cad-40b1-e6d7-ec97b12ac901"
      },
      "outputs": [],
      "source": [
        "## deepak is commenting this\n",
        "#import os\n",
        "#classes = [a for a in os.listdir('genres') if '.' not in a]\n",
        "#print(classes)"
      ]
    },
    {
      "cell_type": "markdown",
      "metadata": {
        "id": "xKQS6NweDHi6"
      },
      "source": [
        "## Spectrogram generation.."
      ]
    },
    {
      "cell_type": "code",
      "execution_count": 3,
      "metadata": {
        "id": "lnwuA7h19z48"
      },
      "outputs": [],
      "source": [
        "import librosa\n",
        "import matplotlib.pyplot as plt\n",
        "import librosa.display\n",
        "\n",
        "\n",
        "def func1(cls):\n",
        "  img_names = os.listdir('genres/'+cls)\n",
        "  os.makedirs('spectrogram/train/'+cls)\n",
        "  os.makedirs('spectrogram/test/'+cls)\n",
        "  print(cls)\n",
        "  train_names = img_names[:60]\n",
        "  test_names = img_names[60:]\n",
        "  cnt = 0\n",
        "  for nm in train_names:\n",
        "    cnt+=1\n",
        "    x , sr = librosa.load('genres/'+cls+'/'+nm)\n",
        "    X = librosa.stft(x)\n",
        "    Xdb = librosa.amplitude_to_db(abs(X))\n",
        "    librosa.display.specshow(Xdb)\n",
        "    plt.savefig('spectrogram/train/'+cls+'/'+str(cnt)+'.png')\n",
        "    plt.close()\n",
        "  \n",
        "  cnt = 0\n",
        "  for nm in test_names:\n",
        "    cnt+=1\n",
        "    x , sr = librosa.load('genres/'+cls+'/'+nm)\n",
        "    X = librosa.stft(x)\n",
        "    Xdb = librosa.amplitude_to_db(abs(X))\n",
        "    librosa.display.specshow(Xdb)\n",
        "    plt.savefig('spectrogram/test/'+cls+'/'+str(cnt)+'.png')\n",
        "    plt.close()"
      ]
    },
    {
      "cell_type": "code",
      "execution_count": 4,
      "metadata": {
        "colab": {
          "base_uri": "https://localhost:8080/"
        },
        "id": "KrtBWlF4_YXb",
        "outputId": "c8732337-479b-4e71-fa07-4132d24cefdb"
      },
      "outputs": [],
      "source": [
        "# import os\n",
        "# classes = [a for a in os.listdir('genres') if '.' not in a]\n",
        "# print(classes)"
      ]
    },
    {
      "cell_type": "markdown",
      "metadata": {
        "id": "EQy_bqnn9rmj"
      },
      "source": [
        "## Model training.."
      ]
    },
    {
      "cell_type": "code",
      "execution_count": 5,
      "metadata": {
        "id": "lgrqLPZcK0MX"
      },
      "outputs": [],
      "source": [
        "import matplotlib.pyplot as plt\n",
        "import seaborn as sns\n",
        "import keras\n",
        "\n",
        "from keras.models import Sequential\n",
        "from keras.layers import Dense, Conv2D , MaxPool2D , Flatten , Dropout \n",
        "from keras.preprocessing.image import ImageDataGenerator\n",
        "from tensorflow.keras.optimizers import Adam\n",
        "\n",
        "#deepak commented it\n",
        "# from keras.optimizer_v1 import Adam\n",
        "\n",
        "\n",
        "from sklearn.metrics import classification_report,confusion_matrix\n",
        "\n",
        "import tensorflow as tf\n",
        "\n",
        "import cv2\n",
        "import os\n",
        "\n",
        "import numpy as np\n",
        "tf.compat.v1.disable_eager_execution()"
      ]
    },
    {
      "cell_type": "code",
      "execution_count": 6,
      "metadata": {
        "id": "GjWqYansStBI"
      },
      "outputs": [],
      "source": [
        "labels = ['blues', 'classical', 'country', 'disco', 'hiphop', 'jazz', 'metal', 'pop', 'reggae', 'rock']\n",
        "img_size = 256\n",
        "def get_data(data_dir):\n",
        "    data = [] \n",
        "    for label in labels: \n",
        "        path = os.path.join(data_dir, label)\n",
        "        class_num = labels.index(label)\n",
        "        for img in os.listdir(path):\n",
        "            try:\n",
        "                img_arr = cv2.imread(os.path.join(path, img))[...,::-1] #convert BGR to RGB format\n",
        "                resized_arr = cv2.resize(img_arr, (img_size, img_size)) # Reshaping images to preferred size\n",
        "                data.append([resized_arr, class_num])\n",
        "            except Exception as e:\n",
        "                print(e)\n",
        "    return np.array(data)"
      ]
    },
    {
      "cell_type": "code",
      "execution_count": 7,
      "metadata": {
        "id": "jZev-1aYS5tp"
      },
      "outputs": [
        {
          "name": "stderr",
          "output_type": "stream",
          "text": [
            "C:\\Users\\user\\AppData\\Local\\Temp\\ipykernel_7652\\802610576.py:15: VisibleDeprecationWarning: Creating an ndarray from ragged nested sequences (which is a list-or-tuple of lists-or-tuples-or ndarrays with different lengths or shapes) is deprecated. If you meant to do this, you must specify 'dtype=object' when creating the ndarray.\n",
            "  return np.array(data)\n"
          ]
        }
      ],
      "source": [
        "train = get_data('dataset/spectrogram/train')\n",
        "val = get_data('dataset/spectrogram/test')"
      ]
    },
    {
      "cell_type": "code",
      "execution_count": 8,
      "metadata": {
        "id": "aOMMXUMnTNAt"
      },
      "outputs": [],
      "source": [
        "x_train = []\n",
        "y_train = []\n",
        "x_val = []\n",
        "y_val = []\n",
        "\n",
        "for feature, label in train:\n",
        "  x_train.append(feature)\n",
        "  y_train.append(label)\n",
        "\n",
        "for feature, label in val:\n",
        "  x_val.append(feature)\n",
        "  y_val.append(label)\n",
        "\n",
        "# Normalize the data\n",
        "x_train = np.array(x_train) / 255\n",
        "x_val = np.array(x_val) / 255\n",
        "\n",
        "x_train.reshape(-1, img_size, img_size, 1)\n",
        "y_train = np.array(y_train)\n",
        "\n",
        "x_val.reshape(-1, img_size, img_size, 1)\n",
        "y_val = np.array(y_val)"
      ]
    },
    {
      "cell_type": "code",
      "execution_count": 9,
      "metadata": {
        "id": "5HMhdmkUTebr"
      },
      "outputs": [],
      "source": [
        "datagen = ImageDataGenerator(\n",
        "        featurewise_center=False,  # set input mean to 0 over the dataset\n",
        "        samplewise_center=False,  # set each sample mean to 0\n",
        "        featurewise_std_normalization=False,  # divide inputs by std of the dataset\n",
        "        samplewise_std_normalization=False,  # divide each input by its std\n",
        "        zca_whitening=False,  # apply ZCA whitening\n",
        "        #rotation_range = 30,  # randomly rotate images in the range (degrees, 0 to 180)\n",
        "        zoom_range = 0.2, # Randomly zoom image \n",
        "        width_shift_range=0.1,  # randomly shift images horizontally (fraction of total width)\n",
        "        height_shift_range=0.1,  # randomly shift images vertically (fraction of total height)\n",
        "        #horizontal_flip = True,  # randomly flip images\n",
        "        vertical_flip=False)  # randomly flip images\n",
        "\n",
        "\n",
        "datagen.fit(x_train)"
      ]
    },
    {
      "cell_type": "code",
      "execution_count": 10,
      "metadata": {
        "id": "frApKmq_Tnkk"
      },
      "outputs": [
        {
          "name": "stdout",
          "output_type": "stream",
          "text": [
            "Model: \"sequential\"\n",
            "_________________________________________________________________\n",
            " Layer (type)                Output Shape              Param #   \n",
            "=================================================================\n",
            " conv2d (Conv2D)             (None, 256, 256, 32)      896       \n",
            "                                                                 \n",
            " max_pooling2d (MaxPooling2D  (None, 128, 128, 32)     0         \n",
            " )                                                               \n",
            "                                                                 \n",
            " conv2d_1 (Conv2D)           (None, 128, 128, 32)      9248      \n",
            "                                                                 \n",
            " max_pooling2d_1 (MaxPooling  (None, 64, 64, 32)       0         \n",
            " 2D)                                                             \n",
            "                                                                 \n",
            " conv2d_2 (Conv2D)           (None, 64, 64, 64)        18496     \n",
            "                                                                 \n",
            " max_pooling2d_2 (MaxPooling  (None, 32, 32, 64)       0         \n",
            " 2D)                                                             \n",
            "                                                                 \n",
            " dropout (Dropout)           (None, 32, 32, 64)        0         \n",
            "                                                                 \n",
            " flatten (Flatten)           (None, 65536)             0         \n",
            "                                                                 \n",
            " dense (Dense)               (None, 128)               8388736   \n",
            "                                                                 \n",
            " dense_1 (Dense)             (None, 10)                1290      \n",
            "                                                                 \n",
            "=================================================================\n",
            "Total params: 8,418,666\n",
            "Trainable params: 8,418,666\n",
            "Non-trainable params: 0\n",
            "_________________________________________________________________\n"
          ]
        }
      ],
      "source": [
        "model = Sequential()\n",
        "model.add(Conv2D(32,3,padding=\"same\", activation=\"relu\", input_shape=(256,256,3)))\n",
        "model.add(MaxPool2D())\n",
        "\n",
        "model.add(Conv2D(32, 3, padding=\"same\", activation=\"relu\"))\n",
        "model.add(MaxPool2D())\n",
        "\n",
        "model.add(Conv2D(64, 3, padding=\"same\", activation=\"relu\"))\n",
        "model.add(MaxPool2D())\n",
        "model.add(Dropout(0.4))\n",
        "\n",
        "model.add(Flatten())\n",
        "model.add(Dense(128,activation=\"relu\"))\n",
        "model.add(Dense(10, activation=\"softmax\"))\n",
        "\n",
        "model.summary()"
      ]
    },
    {
      "cell_type": "code",
      "execution_count": 11,
      "metadata": {
        "id": "uJFFmPkVTr-f"
      },
      "outputs": [
        {
          "name": "stderr",
          "output_type": "stream",
          "text": [
            "C:\\Users\\user\\miniconda3\\envs\\digi\\lib\\site-packages\\keras\\optimizer_v2\\adam.py:105: UserWarning: The `lr` argument is deprecated, use `learning_rate` instead.\n",
            "  super(Adam, self).__init__(name, **kwargs)\n",
            "C:\\Users\\user\\miniconda3\\envs\\digi\\lib\\site-packages\\tensorflow\\python\\util\\dispatch.py:1082: UserWarning: \"`sparse_categorical_crossentropy` received `from_logits=True`, but the `output` argument was produced by a sigmoid or softmax activation and thus does not represent logits. Was this intended?\"\n",
            "  return dispatch_target(*args, **kwargs)\n"
          ]
        }
      ],
      "source": [
        "opt = Adam(lr=0.0001)\n",
        "model.compile(optimizer = opt , loss = tf.keras.losses.SparseCategoricalCrossentropy(from_logits=True) , metrics = ['accuracy'])"
      ]
    },
    {
      "cell_type": "code",
      "execution_count": 12,
      "metadata": {
        "id": "RciGH_6YTzlf"
      },
      "outputs": [
        {
          "name": "stdout",
          "output_type": "stream",
          "text": [
            "Train on 600 samples, validate on 400 samples\n",
            "Epoch 1/100\n",
            "600/600 [==============================] - ETA: 0s - loss: 2.3287 - accuracy: 0.1300"
          ]
        },
        {
          "name": "stderr",
          "output_type": "stream",
          "text": [
            "C:\\Users\\user\\miniconda3\\envs\\digi\\lib\\site-packages\\keras\\engine\\training_v1.py:2057: UserWarning: `Model.state_updates` will be removed in a future version. This property should not be used in TensorFlow 2.0, as `updates` are applied automatically.\n",
            "  updates = self.state_updates\n"
          ]
        },
        {
          "name": "stdout",
          "output_type": "stream",
          "text": [
            "600/600 [==============================] - 25s 42ms/sample - loss: 2.3287 - accuracy: 0.1300 - val_loss: 2.2650 - val_accuracy: 0.1300\n",
            "Epoch 2/100\n",
            "600/600 [==============================] - 25s 41ms/sample - loss: 2.1969 - accuracy: 0.2033 - val_loss: 2.1787 - val_accuracy: 0.2525\n",
            "Epoch 3/100\n",
            "600/600 [==============================] - 23s 39ms/sample - loss: 2.0607 - accuracy: 0.3067 - val_loss: 2.1041 - val_accuracy: 0.3125\n",
            "Epoch 4/100\n",
            "600/600 [==============================] - 23s 39ms/sample - loss: 1.9198 - accuracy: 0.3017 - val_loss: 2.0454 - val_accuracy: 0.2475\n",
            "Epoch 5/100\n",
            "600/600 [==============================] - 22s 37ms/sample - loss: 1.7935 - accuracy: 0.3383 - val_loss: 1.9665 - val_accuracy: 0.2425\n",
            "Epoch 6/100\n",
            "600/600 [==============================] - 22s 36ms/sample - loss: 1.7071 - accuracy: 0.3850 - val_loss: 1.9650 - val_accuracy: 0.2950\n",
            "Epoch 7/100\n",
            "600/600 [==============================] - 23s 38ms/sample - loss: 1.6354 - accuracy: 0.3533 - val_loss: 1.9793 - val_accuracy: 0.3225\n",
            "Epoch 8/100\n",
            "600/600 [==============================] - 22s 37ms/sample - loss: 1.5821 - accuracy: 0.4383 - val_loss: 1.9119 - val_accuracy: 0.3025\n",
            "Epoch 9/100\n",
            "600/600 [==============================] - 22s 37ms/sample - loss: 1.4942 - accuracy: 0.4783 - val_loss: 1.8922 - val_accuracy: 0.3500\n",
            "Epoch 10/100\n",
            "600/600 [==============================] - 23s 38ms/sample - loss: 1.4913 - accuracy: 0.4733 - val_loss: 1.8306 - val_accuracy: 0.3500\n",
            "Epoch 11/100\n",
            "600/600 [==============================] - 23s 38ms/sample - loss: 1.3975 - accuracy: 0.4817 - val_loss: 1.8985 - val_accuracy: 0.3125\n",
            "Epoch 12/100\n",
            "600/600 [==============================] - 22s 37ms/sample - loss: 1.3752 - accuracy: 0.4967 - val_loss: 1.8588 - val_accuracy: 0.3350\n",
            "Epoch 13/100\n",
            "600/600 [==============================] - 22s 37ms/sample - loss: 1.3250 - accuracy: 0.5467 - val_loss: 1.8709 - val_accuracy: 0.2950\n",
            "Epoch 14/100\n",
            "600/600 [==============================] - 24s 41ms/sample - loss: 1.3412 - accuracy: 0.5117 - val_loss: 1.8137 - val_accuracy: 0.3275\n",
            "Epoch 15/100\n",
            "600/600 [==============================] - 25s 41ms/sample - loss: 1.2887 - accuracy: 0.5650 - val_loss: 1.8322 - val_accuracy: 0.3425\n",
            "Epoch 16/100\n",
            "600/600 [==============================] - 24s 40ms/sample - loss: 1.2371 - accuracy: 0.5700 - val_loss: 1.7932 - val_accuracy: 0.3575\n",
            "Epoch 17/100\n",
            "600/600 [==============================] - 25s 42ms/sample - loss: 1.1906 - accuracy: 0.5917 - val_loss: 1.8170 - val_accuracy: 0.3475\n",
            "Epoch 18/100\n",
            "600/600 [==============================] - 24s 40ms/sample - loss: 1.1822 - accuracy: 0.5850 - val_loss: 1.8407 - val_accuracy: 0.3400\n",
            "Epoch 19/100\n",
            "600/600 [==============================] - 28s 47ms/sample - loss: 1.1993 - accuracy: 0.5617 - val_loss: 1.7996 - val_accuracy: 0.3400\n",
            "Epoch 20/100\n",
            "600/600 [==============================] - 26s 43ms/sample - loss: 1.1375 - accuracy: 0.6383 - val_loss: 1.7592 - val_accuracy: 0.3475\n",
            "Epoch 21/100\n",
            "600/600 [==============================] - 25s 41ms/sample - loss: 1.1073 - accuracy: 0.6117 - val_loss: 1.7100 - val_accuracy: 0.3825\n",
            "Epoch 22/100\n",
            "600/600 [==============================] - 25s 41ms/sample - loss: 1.0713 - accuracy: 0.6150 - val_loss: 1.7256 - val_accuracy: 0.3750\n",
            "Epoch 23/100\n",
            "600/600 [==============================] - 24s 40ms/sample - loss: 1.0229 - accuracy: 0.6583 - val_loss: 1.7334 - val_accuracy: 0.3700\n",
            "Epoch 24/100\n",
            "600/600 [==============================] - 24s 40ms/sample - loss: 0.9820 - accuracy: 0.6783 - val_loss: 1.8216 - val_accuracy: 0.3750\n",
            "Epoch 25/100\n",
            "600/600 [==============================] - 26s 43ms/sample - loss: 1.0135 - accuracy: 0.6450 - val_loss: 1.7382 - val_accuracy: 0.4050\n",
            "Epoch 26/100\n",
            "600/600 [==============================] - 24s 41ms/sample - loss: 0.9391 - accuracy: 0.6983 - val_loss: 1.7490 - val_accuracy: 0.3675\n",
            "Epoch 27/100\n",
            "600/600 [==============================] - 24s 40ms/sample - loss: 0.9340 - accuracy: 0.6783 - val_loss: 1.6676 - val_accuracy: 0.4200\n",
            "Epoch 28/100\n",
            "600/600 [==============================] - 26s 43ms/sample - loss: 0.8685 - accuracy: 0.7117 - val_loss: 1.6678 - val_accuracy: 0.4275\n",
            "Epoch 29/100\n",
            "600/600 [==============================] - 28s 46ms/sample - loss: 0.8776 - accuracy: 0.7067 - val_loss: 1.8226 - val_accuracy: 0.3600\n",
            "Epoch 30/100\n",
            "600/600 [==============================] - 27s 45ms/sample - loss: 0.8505 - accuracy: 0.7133 - val_loss: 1.6739 - val_accuracy: 0.4000\n",
            "Epoch 31/100\n",
            "600/600 [==============================] - 26s 43ms/sample - loss: 0.8664 - accuracy: 0.6850 - val_loss: 1.6905 - val_accuracy: 0.4175\n",
            "Epoch 32/100\n",
            "600/600 [==============================] - 26s 43ms/sample - loss: 0.8474 - accuracy: 0.7150 - val_loss: 1.6741 - val_accuracy: 0.3800\n",
            "Epoch 33/100\n",
            "600/600 [==============================] - 25s 42ms/sample - loss: 0.7665 - accuracy: 0.7367 - val_loss: 1.7205 - val_accuracy: 0.3825\n",
            "Epoch 34/100\n",
            "600/600 [==============================] - 26s 43ms/sample - loss: 0.7337 - accuracy: 0.7683 - val_loss: 1.6455 - val_accuracy: 0.3975\n",
            "Epoch 35/100\n",
            "600/600 [==============================] - 25s 42ms/sample - loss: 0.7582 - accuracy: 0.7567 - val_loss: 1.6844 - val_accuracy: 0.3975\n",
            "Epoch 36/100\n",
            "600/600 [==============================] - 26s 44ms/sample - loss: 0.7036 - accuracy: 0.7783 - val_loss: 1.6893 - val_accuracy: 0.4075\n",
            "Epoch 37/100\n",
            "600/600 [==============================] - 26s 43ms/sample - loss: 0.6684 - accuracy: 0.7750 - val_loss: 1.6892 - val_accuracy: 0.4200\n",
            "Epoch 38/100\n",
            "600/600 [==============================] - 28s 47ms/sample - loss: 0.6971 - accuracy: 0.7667 - val_loss: 1.7778 - val_accuracy: 0.3900\n",
            "Epoch 39/100\n",
            "600/600 [==============================] - 25s 41ms/sample - loss: 0.6654 - accuracy: 0.7800 - val_loss: 1.7154 - val_accuracy: 0.4000\n",
            "Epoch 40/100\n",
            "600/600 [==============================] - 25s 41ms/sample - loss: 0.6421 - accuracy: 0.7900 - val_loss: 1.6447 - val_accuracy: 0.4275\n",
            "Epoch 41/100\n",
            "600/600 [==============================] - 24s 40ms/sample - loss: 0.6334 - accuracy: 0.8017 - val_loss: 1.6890 - val_accuracy: 0.4300\n",
            "Epoch 42/100\n",
            "600/600 [==============================] - 25s 42ms/sample - loss: 0.6112 - accuracy: 0.8017 - val_loss: 1.6191 - val_accuracy: 0.4700\n",
            "Epoch 43/100\n",
            "600/600 [==============================] - 24s 40ms/sample - loss: 0.5914 - accuracy: 0.8117 - val_loss: 1.5978 - val_accuracy: 0.4700\n",
            "Epoch 44/100\n",
            "600/600 [==============================] - 24s 40ms/sample - loss: 0.5526 - accuracy: 0.8367 - val_loss: 1.7015 - val_accuracy: 0.4550\n",
            "Epoch 45/100\n",
            "600/600 [==============================] - 24s 40ms/sample - loss: 0.5700 - accuracy: 0.8117 - val_loss: 1.6043 - val_accuracy: 0.4575\n",
            "Epoch 46/100\n",
            "600/600 [==============================] - 25s 42ms/sample - loss: 0.5606 - accuracy: 0.8233 - val_loss: 1.7343 - val_accuracy: 0.4050\n",
            "Epoch 47/100\n",
            "600/600 [==============================] - 24s 40ms/sample - loss: 0.5058 - accuracy: 0.8517 - val_loss: 1.6997 - val_accuracy: 0.4600\n",
            "Epoch 48/100\n",
            "600/600 [==============================] - 24s 40ms/sample - loss: 0.4966 - accuracy: 0.8417 - val_loss: 1.7228 - val_accuracy: 0.4425\n",
            "Epoch 49/100\n",
            "600/600 [==============================] - 24s 39ms/sample - loss: 0.5062 - accuracy: 0.8267 - val_loss: 1.6492 - val_accuracy: 0.4625\n",
            "Epoch 50/100\n",
            "600/600 [==============================] - 23s 39ms/sample - loss: 0.4888 - accuracy: 0.8300 - val_loss: 1.7125 - val_accuracy: 0.4325\n",
            "Epoch 51/100\n",
            "600/600 [==============================] - 24s 39ms/sample - loss: 0.4795 - accuracy: 0.8583 - val_loss: 1.7241 - val_accuracy: 0.4350\n",
            "Epoch 52/100\n",
            "600/600 [==============================] - 23s 39ms/sample - loss: 0.4484 - accuracy: 0.8533 - val_loss: 1.6709 - val_accuracy: 0.4625\n",
            "Epoch 53/100\n",
            "600/600 [==============================] - 24s 39ms/sample - loss: 0.4216 - accuracy: 0.8750 - val_loss: 1.7425 - val_accuracy: 0.4800\n",
            "Epoch 54/100\n",
            "600/600 [==============================] - 23s 39ms/sample - loss: 0.4411 - accuracy: 0.8650 - val_loss: 1.7672 - val_accuracy: 0.4550\n",
            "Epoch 55/100\n",
            "600/600 [==============================] - 24s 40ms/sample - loss: 0.4350 - accuracy: 0.8633 - val_loss: 1.7442 - val_accuracy: 0.4575\n",
            "Epoch 56/100\n",
            "600/600 [==============================] - 26s 44ms/sample - loss: 0.3899 - accuracy: 0.8850 - val_loss: 1.8091 - val_accuracy: 0.4350\n",
            "Epoch 57/100\n",
            "600/600 [==============================] - 25s 42ms/sample - loss: 0.4113 - accuracy: 0.8917 - val_loss: 1.6703 - val_accuracy: 0.4875\n",
            "Epoch 58/100\n",
            "600/600 [==============================] - 25s 42ms/sample - loss: 0.3955 - accuracy: 0.8650 - val_loss: 1.7229 - val_accuracy: 0.4600\n",
            "Epoch 59/100\n",
            "600/600 [==============================] - 26s 44ms/sample - loss: 0.3894 - accuracy: 0.8833 - val_loss: 1.9660 - val_accuracy: 0.4425\n",
            "Epoch 60/100\n",
            "600/600 [==============================] - 29s 48ms/sample - loss: 0.3754 - accuracy: 0.8833 - val_loss: 1.7380 - val_accuracy: 0.4625\n",
            "Epoch 61/100\n",
            "600/600 [==============================] - 26s 43ms/sample - loss: 0.3607 - accuracy: 0.8967 - val_loss: 1.9970 - val_accuracy: 0.4300\n",
            "Epoch 62/100\n",
            "600/600 [==============================] - 25s 42ms/sample - loss: 0.3914 - accuracy: 0.8817 - val_loss: 1.7304 - val_accuracy: 0.4700\n",
            "Epoch 63/100\n",
            "600/600 [==============================] - 28s 47ms/sample - loss: 0.3750 - accuracy: 0.8833 - val_loss: 1.8699 - val_accuracy: 0.4425\n",
            "Epoch 64/100\n",
            "600/600 [==============================] - 24s 40ms/sample - loss: 0.3222 - accuracy: 0.9117 - val_loss: 1.7893 - val_accuracy: 0.4875\n",
            "Epoch 65/100\n",
            "600/600 [==============================] - 27s 45ms/sample - loss: 0.3480 - accuracy: 0.9100 - val_loss: 1.8927 - val_accuracy: 0.4500\n",
            "Epoch 66/100\n",
            "600/600 [==============================] - 25s 42ms/sample - loss: 0.3315 - accuracy: 0.8983 - val_loss: 1.8176 - val_accuracy: 0.4675\n",
            "Epoch 67/100\n",
            "600/600 [==============================] - 28s 46ms/sample - loss: 0.3380 - accuracy: 0.9133 - val_loss: 1.8891 - val_accuracy: 0.4575\n",
            "Epoch 68/100\n",
            "600/600 [==============================] - 26s 43ms/sample - loss: 0.2778 - accuracy: 0.9183 - val_loss: 1.8225 - val_accuracy: 0.4625\n",
            "Epoch 69/100\n",
            "600/600 [==============================] - 24s 40ms/sample - loss: 0.2735 - accuracy: 0.9317 - val_loss: 1.7829 - val_accuracy: 0.4825\n",
            "Epoch 70/100\n",
            "600/600 [==============================] - 24s 40ms/sample - loss: 0.2654 - accuracy: 0.9350 - val_loss: 1.9741 - val_accuracy: 0.4350\n",
            "Epoch 71/100\n",
            "600/600 [==============================] - 24s 41ms/sample - loss: 0.2410 - accuracy: 0.9450 - val_loss: 1.7785 - val_accuracy: 0.4875\n",
            "Epoch 72/100\n",
            "600/600 [==============================] - 24s 40ms/sample - loss: 0.2388 - accuracy: 0.9350 - val_loss: 1.8403 - val_accuracy: 0.4875\n",
            "Epoch 73/100\n",
            "600/600 [==============================] - 24s 40ms/sample - loss: 0.2500 - accuracy: 0.9367 - val_loss: 1.8943 - val_accuracy: 0.4675\n",
            "Epoch 74/100\n",
            "600/600 [==============================] - 24s 41ms/sample - loss: 0.2294 - accuracy: 0.9483 - val_loss: 1.9260 - val_accuracy: 0.4625\n",
            "Epoch 75/100\n",
            "600/600 [==============================] - 25s 42ms/sample - loss: 0.2102 - accuracy: 0.9583 - val_loss: 1.8874 - val_accuracy: 0.4700\n",
            "Epoch 76/100\n",
            "600/600 [==============================] - 25s 41ms/sample - loss: 0.2271 - accuracy: 0.9450 - val_loss: 1.9146 - val_accuracy: 0.4775\n",
            "Epoch 77/100\n",
            "600/600 [==============================] - 24s 40ms/sample - loss: 0.2378 - accuracy: 0.9250 - val_loss: 1.8918 - val_accuracy: 0.4700\n",
            "Epoch 78/100\n",
            "600/600 [==============================] - 24s 40ms/sample - loss: 0.1970 - accuracy: 0.9733 - val_loss: 2.0070 - val_accuracy: 0.4550\n",
            "Epoch 79/100\n",
            "600/600 [==============================] - 24s 40ms/sample - loss: 0.1954 - accuracy: 0.9517 - val_loss: 1.9983 - val_accuracy: 0.4600\n",
            "Epoch 80/100\n",
            "600/600 [==============================] - 24s 40ms/sample - loss: 0.1980 - accuracy: 0.9533 - val_loss: 1.8489 - val_accuracy: 0.4950\n",
            "Epoch 81/100\n",
            "600/600 [==============================] - 24s 40ms/sample - loss: 0.2118 - accuracy: 0.9433 - val_loss: 1.8341 - val_accuracy: 0.4800\n",
            "Epoch 82/100\n",
            "600/600 [==============================] - 24s 40ms/sample - loss: 0.1643 - accuracy: 0.9717 - val_loss: 1.9535 - val_accuracy: 0.4700\n",
            "Epoch 83/100\n",
            "600/600 [==============================] - 26s 43ms/sample - loss: 0.1664 - accuracy: 0.9667 - val_loss: 1.9316 - val_accuracy: 0.4900\n",
            "Epoch 84/100\n",
            "600/600 [==============================] - 25s 42ms/sample - loss: 0.1818 - accuracy: 0.9567 - val_loss: 2.0060 - val_accuracy: 0.4825\n",
            "Epoch 85/100\n",
            "600/600 [==============================] - 25s 42ms/sample - loss: 0.1608 - accuracy: 0.9683 - val_loss: 2.0036 - val_accuracy: 0.4825\n",
            "Epoch 86/100\n",
            "600/600 [==============================] - 26s 43ms/sample - loss: 0.1857 - accuracy: 0.9517 - val_loss: 2.0254 - val_accuracy: 0.4900\n",
            "Epoch 87/100\n",
            "600/600 [==============================] - 26s 44ms/sample - loss: 0.1751 - accuracy: 0.9650 - val_loss: 1.9463 - val_accuracy: 0.4950\n",
            "Epoch 88/100\n",
            "600/600 [==============================] - 27s 44ms/sample - loss: 0.1287 - accuracy: 0.9867 - val_loss: 1.9869 - val_accuracy: 0.4900\n",
            "Epoch 89/100\n",
            "600/600 [==============================] - 27s 46ms/sample - loss: 0.1389 - accuracy: 0.9767 - val_loss: 1.9986 - val_accuracy: 0.4950\n",
            "Epoch 90/100\n",
            "600/600 [==============================] - 26s 43ms/sample - loss: 0.1195 - accuracy: 0.9900 - val_loss: 2.1546 - val_accuracy: 0.4750\n",
            "Epoch 91/100\n",
            "600/600 [==============================] - 25s 42ms/sample - loss: 0.1213 - accuracy: 0.9817 - val_loss: 1.9995 - val_accuracy: 0.4950\n",
            "Epoch 92/100\n",
            "600/600 [==============================] - 24s 41ms/sample - loss: 0.1147 - accuracy: 0.9883 - val_loss: 2.0207 - val_accuracy: 0.4900\n",
            "Epoch 93/100\n",
            "600/600 [==============================] - 26s 43ms/sample - loss: 0.1009 - accuracy: 0.9917 - val_loss: 2.0069 - val_accuracy: 0.4925\n",
            "Epoch 94/100\n",
            "600/600 [==============================] - 26s 43ms/sample - loss: 0.1098 - accuracy: 0.9850 - val_loss: 2.0176 - val_accuracy: 0.4950\n",
            "Epoch 95/100\n",
            "416/600 [===================>..........] - ETA: 6s - loss: 0.1360 - accuracy: 0.9712"
          ]
        }
      ],
      "source": [
        "history = model.fit(x_train,y_train,epochs = 100, validation_data = (x_val, y_val))"
      ]
    },
    {
      "cell_type": "code",
      "execution_count": null,
      "metadata": {
        "id": "EYRkEJTjmAiF"
      },
      "outputs": [],
      "source": [
        "import pickle\n",
        "model.save_weights('500_epoch_simple_lr.cpkt')\n",
        "\n",
        "pickle.dump(history.history, open('history_500_epoch_simple.pkl','wb'))"
      ]
    },
    {
      "cell_type": "markdown",
      "metadata": {},
      "source": [
        "model performance system\n",
        "\n"
      ]
    },
    {
      "cell_type": "code",
      "execution_count": null,
      "metadata": {
        "id": "3GJSYHmQT6EA"
      },
      "outputs": [
        {
          "data": {
            "image/png": "[encoded data removed]",
            "text/plain": [
              "<Figure size 1800x1080 with 2 Axes>"
            ]
          },
          "metadata": {
            "needs_background": "light"
          },
          "output_type": "display_data"
        }
      ],
      "source": [
        "acc = history.history['accuracy']\n",
        "val_acc = history.history['val_accuracy']\n",
        "loss = history.history['loss']\n",
        "val_loss = history.history['val_loss']\n",
        "\n",
        "epochs_range = range(100)\n",
        "\n",
        "plt.figure(figsize=(25, 15))\n",
        "plt.subplot(2, 2, 1)\n",
        "plt.plot(epochs_range, acc, label='Training Accuracy')\n",
        "plt.plot(epochs_range, val_acc, label='Validation Accuracy')\n",
        "plt.legend(loc='lower right')\n",
        "plt.title('Training and Validation Accuracy')\n",
        "\n",
        "plt.subplot(2, 2, 2)\n",
        "plt.plot(epochs_range, loss, label='Training Loss')\n",
        "plt.plot(epochs_range, val_loss, label='Validation Loss')\n",
        "plt.legend(loc='upper right')\n",
        "plt.title('Training and Validation Loss')\n",
        "plt.show()"
      ]
    },
    {
      "cell_type": "code",
      "execution_count": null,
      "metadata": {
        "colab": {
          "base_uri": "https://localhost:8080/",
          "height": 34
        },
        "id": "rSSZy4h5XwKg",
        "outputId": "4e8c12b5-5fb2-4d58-e512-a7ae663916d9"
      },
      "outputs": [
        {
          "data": {
            "text/plain": [
              "<Figure size 1080x432 with 0 Axes>"
            ]
          },
          "metadata": {},
          "output_type": "display_data"
        }
      ],
      "source": [
        "import pickle\n",
        "history = pickle.load(open('history_500_epoch_simple.pkl','rb'))\n",
        "acc = history['accuracy']\n",
        "val_acc = history['val_accuracy']\n",
        "loss = history['loss']\n",
        "val_loss = history['val_loss']\n",
        "\n",
        "epochs_range = range(100)\n",
        "fig, (ax1, ax2) = plt.subplots(1,2, figsize=(15,6))\n",
        "plt.rc('xtick', labelsize=10)    # fontsize of the tick labels\n",
        "plt.rc('ytick', labelsize=10)\n",
        "ax1.plot(epochs_range, acc, label='Training Accuracy', c = '#4CAF50', linewidth=4)\n",
        "ax1.plot(epochs_range, val_acc, label='Validation Accuracy', c='red', linewidth=4)\n",
        "ax1.legend()\n",
        "ax1.set_title('Training and Validation Accuracy',fontsize=18)\n",
        "ax1.set_ylabel('Accuracy',fontsize=18)\n",
        "ax1.set_xlabel('Epoch',fontsize=18)\n",
        "\n",
        "ax2.plot(epochs_range, loss, label='Training Loss',c = '#4CAF50', linewidth=4)\n",
        "ax2.plot(epochs_range, val_loss, label='Validation Loss', c='red', linewidth=4)\n",
        "ax2.legend()\n",
        "ax2.set_title('Training and Validation Loss',fontsize=18)\n",
        "ax2.set_ylabel('Loss',fontsize=18)\n",
        "ax2.set_xlabel('Epoch',fontsize=18)\n",
        "fig.tight_layout(pad=3.0)\n",
        "#plt.show()\n",
        "plt.savefig('sim_plot1.png',bbox_inches = 'tight')\n",
        "plt.clf()"
      ]
    },
    {
      "cell_type": "code",
      "execution_count": null,
      "metadata": {
        "id": "BLe4sDlebDiE"
      },
      "outputs": [
        {
          "ename": "AttributeError",
          "evalue": "\n        'Tensor' object has no attribute 'reshape'.\n        If you are looking for numpy-related methods, please run the following:\n        from tensorflow.python.ops.numpy_ops import np_config\n        np_config.enable_numpy_behavior()",
          "output_type": "error",
          "traceback": [
            "\u001b[1;31m---------------------------------------------------------------------------\u001b[0m",
            "\u001b[1;31mAttributeError\u001b[0m                            Traceback (most recent call last)",
            "Input \u001b[1;32mIn [17]\u001b[0m, in \u001b[0;36m<cell line: 2>\u001b[1;34m()\u001b[0m\n\u001b[0;32m      1\u001b[0m predictions \u001b[38;5;241m=\u001b[39m model(x_val)\n\u001b[1;32m----> 2\u001b[0m predictions \u001b[38;5;241m=\u001b[39m \u001b[43mpredictions\u001b[49m\u001b[38;5;241;43m.\u001b[39;49m\u001b[43mreshape\u001b[49m(\u001b[38;5;241m1\u001b[39m,\u001b[38;5;241m-\u001b[39m\u001b[38;5;241m1\u001b[39m)[\u001b[38;5;241m0\u001b[39m]\n\u001b[0;32m      3\u001b[0m \u001b[38;5;28mprint\u001b[39m(classification_report(y_val, predictions, target_names \u001b[38;5;241m=\u001b[39m labels))\n",
            "File \u001b[1;32m~\\miniconda3\\envs\\digi\\lib\\site-packages\\tensorflow\\python\\framework\\ops.py:508\u001b[0m, in \u001b[0;36mTensor.__getattr__\u001b[1;34m(self, name)\u001b[0m\n\u001b[0;32m    504\u001b[0m \u001b[38;5;28;01mdef\u001b[39;00m \u001b[38;5;21m__getattr__\u001b[39m(\u001b[38;5;28mself\u001b[39m, name):\n\u001b[0;32m    505\u001b[0m   \u001b[38;5;28;01mif\u001b[39;00m name \u001b[38;5;129;01min\u001b[39;00m {\u001b[38;5;124m\"\u001b[39m\u001b[38;5;124mT\u001b[39m\u001b[38;5;124m\"\u001b[39m, \u001b[38;5;124m\"\u001b[39m\u001b[38;5;124mastype\u001b[39m\u001b[38;5;124m\"\u001b[39m, \u001b[38;5;124m\"\u001b[39m\u001b[38;5;124mravel\u001b[39m\u001b[38;5;124m\"\u001b[39m, \u001b[38;5;124m\"\u001b[39m\u001b[38;5;124mtranspose\u001b[39m\u001b[38;5;124m\"\u001b[39m, \u001b[38;5;124m\"\u001b[39m\u001b[38;5;124mreshape\u001b[39m\u001b[38;5;124m\"\u001b[39m, \u001b[38;5;124m\"\u001b[39m\u001b[38;5;124mclip\u001b[39m\u001b[38;5;124m\"\u001b[39m, \u001b[38;5;124m\"\u001b[39m\u001b[38;5;124msize\u001b[39m\u001b[38;5;124m\"\u001b[39m,\n\u001b[0;32m    506\u001b[0m               \u001b[38;5;124m\"\u001b[39m\u001b[38;5;124mtolist\u001b[39m\u001b[38;5;124m\"\u001b[39m, \u001b[38;5;124m\"\u001b[39m\u001b[38;5;124mdata\u001b[39m\u001b[38;5;124m\"\u001b[39m}:\n\u001b[0;32m    507\u001b[0m     \u001b[38;5;66;03m# TODO(wangpeng): Export the enable_numpy_behavior knob\u001b[39;00m\n\u001b[1;32m--> 508\u001b[0m     \u001b[38;5;28;01mraise\u001b[39;00m \u001b[38;5;167;01mAttributeError\u001b[39;00m(\u001b[38;5;124m\"\"\"\u001b[39m\n\u001b[0;32m    509\u001b[0m \u001b[38;5;124m      \u001b[39m\u001b[38;5;124m'\u001b[39m\u001b[38;5;132;01m{}\u001b[39;00m\u001b[38;5;124m'\u001b[39m\u001b[38;5;124m object has no attribute \u001b[39m\u001b[38;5;124m'\u001b[39m\u001b[38;5;132;01m{}\u001b[39;00m\u001b[38;5;124m'\u001b[39m\u001b[38;5;124m.\u001b[39m\n\u001b[0;32m    510\u001b[0m \u001b[38;5;124m      If you are looking for numpy-related methods, please run the following:\u001b[39m\n\u001b[0;32m    511\u001b[0m \u001b[38;5;124m      from tensorflow.python.ops.numpy_ops import np_config\u001b[39m\n\u001b[0;32m    512\u001b[0m \u001b[38;5;124m      np_config.enable_numpy_behavior()\u001b[39m\u001b[38;5;124m\"\"\"\u001b[39m\u001b[38;5;241m.\u001b[39mformat(\u001b[38;5;28mtype\u001b[39m(\u001b[38;5;28mself\u001b[39m)\u001b[38;5;241m.\u001b[39m\u001b[38;5;18m__name__\u001b[39m, name))\n\u001b[0;32m    513\u001b[0m   \u001b[38;5;28mself\u001b[39m\u001b[38;5;241m.\u001b[39m\u001b[38;5;21m__getattribute__\u001b[39m(name)\n",
            "\u001b[1;31mAttributeError\u001b[0m: \n        'Tensor' object has no attribute 'reshape'.\n        If you are looking for numpy-related methods, please run the following:\n        from tensorflow.python.ops.numpy_ops import np_config\n        np_config.enable_numpy_behavior()"
          ]
        }
      ],
      "source": [
        "predictions = model(x_val)\n",
        "predictions = predictions.reshape(1,-1)[0]\n",
        "print(classification_report(y_val, predictions, target_names = labels))"
      ]
    },
    {
      "cell_type": "code",
      "execution_count": null,
      "metadata": {
        "id": "PbG03a-7Yayv"
      },
      "outputs": [
        {
          "ename": "NameError",
          "evalue": "name 'predictions' is not defined",
          "output_type": "error",
          "traceback": [
            "\u001b[1;31m---------------------------------------------------------------------------\u001b[0m",
            "\u001b[1;31mNameError\u001b[0m                                 Traceback (most recent call last)",
            "Input \u001b[1;32mIn [16]\u001b[0m, in \u001b[0;36m<cell line: 6>\u001b[1;34m()\u001b[0m\n\u001b[0;32m      3\u001b[0m \u001b[38;5;28;01mimport\u001b[39;00m \u001b[38;5;21;01mmatplotlib\u001b[39;00m\u001b[38;5;21;01m.\u001b[39;00m\u001b[38;5;21;01mpyplot\u001b[39;00m \u001b[38;5;28;01mas\u001b[39;00m \u001b[38;5;21;01mplt\u001b[39;00m\n\u001b[0;32m      4\u001b[0m \u001b[38;5;28;01mfrom\u001b[39;00m \u001b[38;5;21;01msklearn\u001b[39;00m\u001b[38;5;21;01m.\u001b[39;00m\u001b[38;5;21;01mmetrics\u001b[39;00m \u001b[38;5;28;01mimport\u001b[39;00m confusion_matrix\n\u001b[1;32m----> 6\u001b[0m cm1 \u001b[38;5;241m=\u001b[39m confusion_matrix(y_val, \u001b[43mpredictions\u001b[49m)\n\u001b[0;32m      7\u001b[0m df_cm \u001b[38;5;241m=\u001b[39m pd\u001b[38;5;241m.\u001b[39mDataFrame(cm1, index \u001b[38;5;241m=\u001b[39m [i \u001b[38;5;28;01mfor\u001b[39;00m i \u001b[38;5;129;01min\u001b[39;00m labels],\n\u001b[0;32m      8\u001b[0m               columns \u001b[38;5;241m=\u001b[39m [i \u001b[38;5;28;01mfor\u001b[39;00m i \u001b[38;5;129;01min\u001b[39;00m labels])\n\u001b[0;32m      9\u001b[0m plt\u001b[38;5;241m.\u001b[39mfigure(figsize \u001b[38;5;241m=\u001b[39m (\u001b[38;5;241m10\u001b[39m,\u001b[38;5;241m7\u001b[39m))\n",
            "\u001b[1;31mNameError\u001b[0m: name 'predictions' is not defined"
          ]
        }
      ],
      "source": [
        "import seaborn as sn\n",
        "import pandas as pd\n",
        "import matplotlib.pyplot as plt\n",
        "from sklearn.metrics import confusion_matrix\n",
        "\n",
        "cm1 = confusion_matrix(y_val, predictions)\n",
        "df_cm = pd.DataFrame(cm1, index = [i for i in labels],\n",
        "              columns = [i for i in labels])\n",
        "plt.figure(figsize = (10,7))\n",
        "sn.heatmap(df_cm, annot=True,cmap=\"RdPu\")\n",
        "plt.savefig('confusion_mrtx1.png',bbox_inches = 'tight')"
      ]
    },
    {
      "cell_type": "markdown",
      "metadata": {
        "id": "LhAssCnpc-zC"
      },
      "source": [
        "# Transfer Learning based modeling"
      ]
    },
    {
      "cell_type": "code",
      "execution_count": null,
      "metadata": {
        "id": "KL_xNwxtbZGE"
      },
      "outputs": [],
      "source": [
        "base_model = tf.keras.applications.MobileNetV2(input_shape = (256, 256, 3), include_top = False, weights = \"imagenet\")"
      ]
    },
    {
      "cell_type": "code",
      "execution_count": null,
      "metadata": {
        "id": "jMP5zEkjboya"
      },
      "outputs": [],
      "source": [
        "base_model.trainable = False\n",
        "model = tf.keras.Sequential([base_model,\n",
        "                                 tf.keras.layers.GlobalAveragePooling2D(),\n",
        "                                 tf.keras.layers.Dropout(0.2),\n",
        "                                 tf.keras.layers.Dense(10, activation=\"softmax\")                                     \n",
        "                                ])"
      ]
    },
    {
      "cell_type": "code",
      "execution_count": null,
      "metadata": {
        "id": "skCTJ9t8bzN5"
      },
      "outputs": [],
      "source": [
        "base_learning_rate = 0.0001\n",
        "model.compile(optimizer=tf.keras.optimizers.Adam(lr=base_learning_rate),\n",
        "              loss=tf.keras.losses.SparseCategoricalCrossentropy(from_logits=True),\n",
        "              metrics=['accuracy'])\n",
        "\n",
        "history1 = model.fit(x_train,y_train,epochs = 100 , validation_data = (x_val, y_val))"
      ]
    },
    {
      "cell_type": "code",
      "execution_count": null,
      "metadata": {
        "id": "hvaP0P-cD-Hv"
      },
      "outputs": [],
      "source": [
        "model.summary()"
      ]
    },
    {
      "cell_type": "code",
      "execution_count": null,
      "metadata": {
        "id": "D30aRr_Lfc9M"
      },
      "outputs": [],
      "source": [
        "acc = history1.history['accuracy']\n",
        "val_acc = history1.history['val_accuracy']\n",
        "loss = history1.history['loss']\n",
        "val_loss = history1.history['val_loss']\n",
        "\n",
        "epochs_range = range(100)\n",
        "\n",
        "plt.figure(figsize=(25, 15))\n",
        "plt.subplot(2, 2, 1)\n",
        "plt.plot(epochs_range, acc, label='Training Accuracy')\n",
        "plt.plot(epochs_range, val_acc, label='Validation Accuracy')\n",
        "plt.legend(loc='lower right')\n",
        "plt.title('Training and Validation Accuracy')\n",
        "\n",
        "plt.subplot(2, 2, 2)\n",
        "plt.plot(epochs_range, loss, label='Training Loss')\n",
        "plt.plot(epochs_range, val_loss, label='Validation Loss')\n",
        "plt.legend(loc='upper right')\n",
        "plt.title('Training and Validation Loss')\n",
        "plt.show()"
      ]
    },
    {
      "cell_type": "code",
      "execution_count": null,
      "metadata": {
        "id": "S-opt3HYbhRP"
      },
      "outputs": [],
      "source": [
        "import pickle\n",
        "history = pickle.load(open('history_500_epoch_tr.pkl','rb'))\n",
        "acc = history['accuracy']\n",
        "val_acc = history['val_accuracy']\n",
        "loss = history['loss']\n",
        "val_loss = history['val_loss']\n",
        "\n",
        "epochs_range = range(100)\n",
        "fig, (ax1, ax2) = plt.subplots(1,2, figsize=(15,6))\n",
        "plt.rc('xtick', labelsize=10)    # fontsize of the tick labels\n",
        "plt.rc('ytick', labelsize=10)\n",
        "ax1.plot(epochs_range, acc, label='Training Accuracy', c = '#4CAF50', linewidth=4)\n",
        "ax1.plot(epochs_range, val_acc, label='Validation Accuracy', c='red', linewidth=4)\n",
        "ax1.legend()\n",
        "ax1.set_title('Training and Validation Accuracy',fontsize=18)\n",
        "ax1.set_ylabel('Accuracy',fontsize=18)\n",
        "ax1.set_xlabel('Epoch',fontsize=18)\n",
        "\n",
        "ax2.plot(epochs_range, loss, label='Training Loss',c = '#4CAF50', linewidth=4)\n",
        "ax2.plot(epochs_range, val_loss, label='Validation Loss', c='red', linewidth=4)\n",
        "ax2.legend()\n",
        "ax2.set_title('Training and Validation Loss',fontsize=18)\n",
        "ax2.set_ylabel('Loss',fontsize=18)\n",
        "ax2.set_xlabel('Epoch',fontsize=18)\n",
        "fig.tight_layout(pad=3.0)\n",
        "#plt.show()\n",
        "plt.savefig('tfr_plot1.png',bbox_inches = 'tight')\n",
        "plt.clf()"
      ]
    },
    {
      "cell_type": "code",
      "execution_count": null,
      "metadata": {
        "id": "uf1JjtBAfrSi"
      },
      "outputs": [],
      "source": [
        "predictions = model.predict_classes(x_val)\n",
        "predictions = predictions.reshape(1,-1)[0]\n",
        "print(classification_report(y_val, predictions, target_names = labels))"
      ]
    },
    {
      "cell_type": "code",
      "execution_count": null,
      "metadata": {
        "id": "-1UcfoXZcE7z"
      },
      "outputs": [],
      "source": [
        "import seaborn as sn\n",
        "import pandas as pd\n",
        "import matplotlib.pyplot as plt\n",
        "cm1 = confusion_matrix(y_val, predictions)\n",
        "df_cm = pd.DataFrame(cm1, index = [i for i in labels],\n",
        "              columns = [i for i in labels])\n",
        "plt.figure(figsize = (10,7))\n",
        "sn.heatmap(df_cm, annot=True,cmap=\"RdPu\")\n",
        "plt.savefig('confusion_mrtx2.png',bbox_inches = 'tight')"
      ]
    },
    {
      "cell_type": "code",
      "execution_count": null,
      "metadata": {
        "id": "RwzSfGdsshTN"
      },
      "outputs": [],
      "source": [
        "model.save_weights('500_epoch_transfer_lr.cpkt')\n",
        "pickle.dump(history1.history, open('history_500_epoch_tr.pkl','wb'))\n"
      ]
    },
    {
      "cell_type": "markdown",
      "metadata": {
        "id": "UkSwbJkkV5cp"
      },
      "source": [
        "## Multi-Model Training"
      ]
    },
    {
      "cell_type": "code",
      "execution_count": null,
      "metadata": {
        "colab": {
          "background_save": true
        },
        "id": "sRHHpGBdV8fQ"
      },
      "outputs": [],
      "source": [
        "sp_train = get_data('dataset/spectrogram/train')\n",
        "sp_val = get_data('dataset/spectrogram/test')\n",
        "\n",
        "wv_train = get_data('dataset/wavelets/train')\n",
        "wv_val = get_data('dataset/wavelets/test')"
      ]
    },
    {
      "cell_type": "code",
      "execution_count": null,
      "metadata": {
        "id": "zh0O-VhDWHiX"
      },
      "outputs": [],
      "source": [
        "x_sp_train = []\n",
        "y_sp_train = []\n",
        "x_sp_val = []\n",
        "y_sp_val = []\n",
        "\n",
        "for feature, label in sp_train:\n",
        "  x_sp_train.append(feature)\n",
        "  y_sp_train.append(label)\n",
        "\n",
        "for feature, label in sp_val:\n",
        "  x_sp_val.append(feature)\n",
        "  y_sp_val.append(label)\n",
        "\n",
        "# Normalize the data\n",
        "x_sp_train = np.array(x_sp_train) / 255\n",
        "x_sp_val = np.array(x_sp_val) / 255\n",
        "\n",
        "x_sp_train.reshape(-1, img_size, img_size, 1)\n",
        "y_sp_train = np.array(y_sp_train)\n",
        "\n",
        "x_sp_val.reshape(-1, img_size, img_size, 1)\n",
        "y_sp_val = np.array(y_sp_val)"
      ]
    },
    {
      "cell_type": "code",
      "execution_count": null,
      "metadata": {
        "id": "eWFkA_iJW7v_"
      },
      "outputs": [],
      "source": [
        "x_wv_train = []\n",
        "y_wv_train = []\n",
        "x_wv_val = []\n",
        "y_wv_val = []\n",
        "\n",
        "for feature, label in wv_train:\n",
        "  x_wv_train.append(feature)\n",
        "  y_wv_train.append(label)\n",
        "\n",
        "for feature, label in wv_val:\n",
        "  x_wv_val.append(feature)\n",
        "  y_wv_val.append(label)\n",
        "\n",
        "# Normalize the data\n",
        "x_wv_train = np.array(x_wv_train) / 255\n",
        "x_wv_val = np.array(x_wv_val) / 255\n",
        "\n",
        "x_wv_train.reshape(-1, img_size, img_size, 1)\n",
        "y_wv_train = np.array(y_wv_train)\n",
        "\n",
        "x_wv_val.reshape(-1, img_size, img_size, 1)\n",
        "y_wv_val = np.array(y_wv_val)"
      ]
    },
    {
      "cell_type": "code",
      "execution_count": null,
      "metadata": {
        "id": "cQoJT8abXgqm"
      },
      "outputs": [],
      "source": [
        "datagen_sp = ImageDataGenerator(\n",
        "        featurewise_center=False,  # set input mean to 0 over the dataset\n",
        "        samplewise_center=False,  # set each sample mean to 0\n",
        "        featurewise_std_normalization=False,  # divide inputs by std of the dataset\n",
        "        samplewise_std_normalization=False,  # divide each input by its std\n",
        "        zca_whitening=False,  # apply ZCA whitening\n",
        "        #rotation_range = 30,  # randomly rotate images in the range (degrees, 0 to 180)\n",
        "        zoom_range = 0.2, # Randomly zoom image \n",
        "        width_shift_range=0.1,  # randomly shift images horizontally (fraction of total width)\n",
        "        height_shift_range=0.1,  # randomly shift images vertically (fraction of total height)\n",
        "        #horizontal_flip = True,  # randomly flip images\n",
        "        vertical_flip=False)  # randomly flip images\n",
        "\n",
        "\n",
        "datagen_sp.fit(x_sp_train)\n",
        "\n",
        "datagen_wv = ImageDataGenerator(\n",
        "        featurewise_center=False,  # set input mean to 0 over the dataset\n",
        "        samplewise_center=False,  # set each sample mean to 0\n",
        "        featurewise_std_normalization=False,  # divide inputs by std of the dataset\n",
        "        samplewise_std_normalization=False,  # divide each input by its std\n",
        "        zca_whitening=False,  # apply ZCA whitening\n",
        "        #rotation_range = 30,  # randomly rotate images in the range (degrees, 0 to 180)\n",
        "        zoom_range = 0.2, # Randomly zoom image \n",
        "        width_shift_range=0.1,  # randomly shift images horizontally (fraction of total width)\n",
        "        height_shift_range=0.1,  # randomly shift images vertically (fraction of total height)\n",
        "        #horizontal_flip = True,  # randomly flip images\n",
        "        vertical_flip=False)  # randomly flip images\n",
        "\n",
        "\n",
        "datagen_wv.fit(x_wv_train)"
      ]
    },
    {
      "cell_type": "code",
      "execution_count": null,
      "metadata": {
        "id": "DAk1TubMZjJV"
      },
      "outputs": [],
      "source": [
        "input_sp = keras.Input(shape=(256,256,3))\n",
        "input_wv = keras.Input(shape=(256,256,3))\n",
        "\n",
        "x = Conv2D(32,3,padding=\"same\", activation=\"relu\")(input_sp)\n",
        "x = MaxPool2D()(x)\n",
        "x = Conv2D(64, 3, padding=\"same\", activation=\"relu\")(x)\n",
        "x = MaxPool2D()(x)\n",
        "x = Dropout(0.4)(x)\n",
        "x = Flatten()(x)\n",
        "x = Dense(128,activation=\"relu\")(x)\n",
        "x = keras.Model(inputs=input_sp, outputs=x)\n",
        "\n",
        "y = Conv2D(32,3,padding=\"same\", activation=\"relu\")(input_wv)\n",
        "y = MaxPool2D()(y)\n",
        "y = Conv2D(64, 3, padding=\"same\", activation=\"relu\")(y)\n",
        "y = MaxPool2D()(y)\n",
        "y = Dropout(0.4)(y)\n",
        "y = Flatten()(y)\n",
        "y = Dense(128,activation=\"relu\")(y)\n",
        "y = keras.Model(inputs=input_wv, outputs=y)\n",
        "\n",
        "from tensorflow.keras.layers import concatenate\n",
        "combined = concatenate([x.output, y.output])\n",
        "\n",
        "z = Dense(32, activation=\"relu\")(combined)\n",
        "z = Dense(10, activation=\"softmax\")(z)\n",
        "\n",
        "model = keras.Model(inputs=[x.input, y.input], outputs=z)"
      ]
    },
    {
      "cell_type": "code",
      "execution_count": null,
      "metadata": {
        "id": "K25O827PcoKy"
      },
      "outputs": [],
      "source": [
        "model.summary()"
      ]
    },
    {
      "cell_type": "code",
      "execution_count": null,
      "metadata": {
        "id": "9LsfjV2ucprS"
      },
      "outputs": [],
      "source": [
        "opt = Adam(lr=0.0001)\n",
        "model.compile(optimizer = opt , loss = tf.keras.losses.SparseCategoricalCrossentropy(from_logits=True) , metrics = ['accuracy'])"
      ]
    },
    {
      "cell_type": "code",
      "execution_count": null,
      "metadata": {
        "id": "7cPYQFBDc1KR"
      },
      "outputs": [],
      "source": [
        "history2 = model.fit([x_sp_train,x_wv_train],y_sp_train,epochs = 100, validation_data = ([x_sp_val,x_wv_val], y_sp_val))"
      ]
    },
    {
      "cell_type": "code",
      "execution_count": null,
      "metadata": {
        "id": "_5tiBlgtduBp"
      },
      "outputs": [],
      "source": [
        "acc = history2.history['accuracy']\n",
        "val_acc = history2.history['val_accuracy']\n",
        "loss = history2.history['loss']\n",
        "val_loss = history2.history['val_loss']\n",
        "\n",
        "epochs_range = range(100)\n",
        "\n",
        "plt.figure(figsize=(25, 15))\n",
        "plt.subplot(2, 2, 1)\n",
        "plt.plot(epochs_range, acc, label='Training Accuracy')\n",
        "plt.plot(epochs_range, val_acc, label='Validation Accuracy')\n",
        "plt.legend(loc='lower right')\n",
        "plt.title('Training and Validation Accuracy')\n",
        "\n",
        "plt.subplot(2, 2, 2)\n",
        "plt.plot(epochs_range, loss, label='Training Loss')\n",
        "plt.plot(epochs_range, val_loss, label='Validation Loss')\n",
        "plt.legend(loc='upper right')\n",
        "plt.title('Training and Validation Loss')\n",
        "plt.show()"
      ]
    },
    {
      "cell_type": "code",
      "execution_count": null,
      "metadata": {
        "id": "YMQeqjWgeIlw"
      },
      "outputs": [],
      "source": [
        "import pickle\n",
        "history = pickle.load(open('history_500_epoch_multi.pkl','rb'))\n",
        "acc = history['accuracy']\n",
        "val_acc = history['val_accuracy']\n",
        "loss = history['loss']\n",
        "val_loss = history['val_loss']\n",
        "\n",
        "epochs_range = range(100)\n",
        "fig, (ax1, ax2) = plt.subplots(1,2, figsize=(15,6))\n",
        "plt.rc('xtick', labelsize=10)    # fontsize of the tick labels\n",
        "plt.rc('ytick', labelsize=10)\n",
        "ax1.plot(epochs_range, acc, label='Training Accuracy', c = '#4CAF50', linewidth=4)\n",
        "ax1.plot(epochs_range, val_acc, label='Validation Accuracy', c='red', linewidth=4)\n",
        "ax1.legend()\n",
        "ax1.set_title('Training and Validation Accuracy',fontsize=18)\n",
        "ax1.set_ylabel('Accuracy',fontsize=18)\n",
        "ax1.set_xlabel('Epoch',fontsize=18)\n",
        "\n",
        "ax2.plot(epochs_range, loss, label='Training Loss',c = '#4CAF50', linewidth=4)\n",
        "ax2.plot(epochs_range, val_loss, label='Validation Loss', c='red', linewidth=4)\n",
        "ax2.legend()\n",
        "ax2.set_title('Training and Validation Loss',fontsize=18)\n",
        "ax2.set_ylabel('Loss',fontsize=18)\n",
        "ax2.set_xlabel('Epoch',fontsize=18)\n",
        "fig.tight_layout(pad=3.0)\n",
        "#plt.show()\n",
        "plt.savefig('multi_plot1.png',bbox_inches = 'tight')\n",
        "plt.clf()"
      ]
    },
    {
      "cell_type": "code",
      "execution_count": null,
      "metadata": {
        "id": "ZP-YbdgId-lQ"
      },
      "outputs": [],
      "source": [
        "predictions = model.predict([x_sp_val,x_wv_val])\n",
        "print(classification_report(y_wv_val, np.argmax(predictions, axis=1), target_names = labels))"
      ]
    },
    {
      "cell_type": "code",
      "execution_count": null,
      "metadata": {
        "id": "0VyAzWhIemG_"
      },
      "outputs": [],
      "source": [
        "import seaborn as sn\n",
        "import pandas as pd\n",
        "import matplotlib.pyplot as plt\n",
        "predictions = np.argmax(predictions, axis=1)\n",
        "cm1 = confusion_matrix(y_val, predictions)\n",
        "df_cm = pd.DataFrame(cm1, index = [i for i in labels],\n",
        "              columns = [i for i in labels])\n",
        "plt.figure(figsize = (10,7))\n",
        "sn.heatmap(df_cm, annot=True,cmap=\"RdPu\")\n",
        "plt.savefig('confusion_mrtx3.png',bbox_inches = 'tight')"
      ]
    },
    {
      "cell_type": "code",
      "execution_count": null,
      "metadata": {
        "colab": {
          "base_uri": "https://localhost:8080/",
          "height": 34
        },
        "id": "4uBCt0dd36HJ",
        "outputId": "0ed11f0d-fa2a-4c14-b5c1-123ebf734a64"
      },
      "outputs": [],
      "source": [
        "epochs_range = range(100)\n",
        "import matplotlib.pyplot as plt\n",
        "import pickle \n",
        "history = pickle.load(open('history_500_epoch_simple.pkl','rb'))\n",
        "acc = history['accuracy']\n",
        "val_acc = history['val_accuracy']\n",
        "loss = history['loss']\n",
        "val_loss = history['val_loss']\n",
        "\n",
        "history = pickle.load(open('history_500_epoch_tr.pkl','rb'))\n",
        "acc1 = history['accuracy']\n",
        "val_acc1 = history['val_accuracy']\n",
        "loss1 = history['loss']\n",
        "val_loss1 = history['val_loss']\n",
        "\n",
        "history = pickle.load(open('C:\\Users\\xaidi\\OneDrive\\Documents\\GitHub\\Genre-Classification-using-Deep-learning\\history_500_epoch_multi.pkl','rb'))\n",
        "acc2 = history['accuracy']\n",
        "val_acc2 = history['val_accuracy']\n",
        "loss2 = history['loss']\n",
        "val_loss2 = history['val_loss']\n",
        "\n",
        "fig, (ax1, ax2) = plt.subplots(1,2, figsize=(15,6))\n",
        "plt.rc('xtick', labelsize=10)    # fontsize of the tick labels\n",
        "plt.rc('ytick', labelsize=10)\n",
        "ax1.plot(epochs_range, acc, label='CNN Training Accuracy', c = '#4CAF50', linewidth=4)\n",
        "ax1.plot(epochs_range, val_acc, label='CNN Validation Accuracy', c='red', linewidth=4)\n",
        "ax1.plot(epochs_range, acc1, label='Transfer learning Training Accuracy', c = '#e72866', linewidth=4)\n",
        "ax1.plot(epochs_range, val_acc1, label='Transfer learning Validation Accuracy', c='#282ec7', linewidth=4)\n",
        "ax1.plot(epochs_range, acc2, label='Multi modal Training Accuracy', c = '#171c1c', linewidth=4)\n",
        "ax1.plot(epochs_range, val_acc2, label='Multi modal Validation Accuracy', c='#62176e', linewidth=4)\n",
        "\n",
        "ax1.legend()\n",
        "ax1.set_title('Training and Validation Accuracy',fontsize=18)\n",
        "ax1.set_ylabel('Accuracy',fontsize=18)\n",
        "ax1.set_xlabel('Epoch',fontsize=18)\n",
        "\n",
        "ax2.plot(epochs_range, loss, label='CNN Training Loss',c = '#4CAF50', linewidth=4)\n",
        "ax2.plot(epochs_range, val_loss, label='CNN Validation Loss', c='red', linewidth=4)\n",
        "ax2.plot(epochs_range, loss1, label='Transfer learning Training Loss',c = '#c72866', linewidth=4)\n",
        "ax2.plot(epochs_range, val_loss1, label='Transfer learning Validation Loss', c='#282ec7', linewidth=4)\n",
        "ax2.plot(epochs_range, loss2, label='Multi modal Training Loss',c = '#171c1c', linewidth=4)\n",
        "ax2.plot(epochs_range, val_loss2, label='Multi modal learning Validation Loss', c='#62176e', linewidth=4)\n",
        "\n",
        "ax2.legend()\n",
        "ax2.set_title('Training and Validation Loss',fontsize=18)\n",
        "ax2.set_ylabel('Loss',fontsize=18)\n",
        "ax2.set_xlabel('Epoch',fontsize=18)\n",
        "fig.tight_layout(pad=3.0)\n",
        "#plt.show()\n",
        "plt.savefig('all_1.png',bbox_inches = 'tight')\n",
        "plt.clf()"
      ]
    },
    {
      "cell_type": "code",
      "execution_count": null,
      "metadata": {
        "id": "mvqSlPNI4C5b"
      },
      "outputs": [],
      "source": []
    },
    {
      "cell_type": "code",
      "execution_count": null,
      "metadata": {},
      "outputs": [
        {
          "name": "stdout",
          "output_type": "stream",
          "text": [
            "2.9.1\n"
          ]
        }
      ],
      "source": []
    },
    {
      "cell_type": "code",
      "execution_count": null,
      "metadata": {},
      "outputs": [],
      "source": []
    }
  ],
  "metadata": {
    "accelerator": "GPU",
    "colab": {
      "collapsed_sections": [],
      "name": "genre_classification.ipynb",
      "provenance": []
    },
    "kernelspec": {
      "display_name": "Python 3",
      "name": "python3"
    },
    "language_info": {
      "codemirror_mode": {
        "name": "ipython",
        "version": 3
      },
      "file_extension": ".py",
      "mimetype": "text/x-python",
      "name": "python",
      "nbconvert_exporter": "python",
      "pygments_lexer": "ipython3",
      "version": "3.9.12"
    }
  },
  "nbformat": 4,
  "nbformat_minor": 0
}
